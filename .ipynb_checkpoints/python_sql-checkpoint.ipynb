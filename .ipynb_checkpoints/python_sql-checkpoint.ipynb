{
 "cells": [
  {
   "cell_type": "code",
   "execution_count": 1,
   "id": "e8900a26-5821-4fb5-9653-ec356d0bfe6a",
   "metadata": {},
   "outputs": [],
   "source": [
    "import pandas as pd\n",
    "import matplotlib.pyplot as plt\n",
    "import seaborn as sns\n",
    "import mysql.connector \n",
    "import numpy as np"
   ]
  },
  {
   "cell_type": "code",
   "execution_count": 2,
   "id": "c83297be-81dc-4ca4-839e-e567079e69db",
   "metadata": {},
   "outputs": [],
   "source": [
    "from dotenv import load_dotenv\n",
    "import os\n",
    "load_dotenv()\n",
    "db=mysql.connector.connect(host=\"localhost\",username='root',password=os.getenv('PASSWORD'),database='ecommerce')"
   ]
  },
  {
   "cell_type": "code",
   "execution_count": 3,
   "id": "9b0b17d6-5b1e-4258-8b1e-89e40b260ea2",
   "metadata": {},
   "outputs": [],
   "source": [
    "cur=db.cursor()"
   ]
  },
  {
   "cell_type": "markdown",
   "id": "dab6947b-f3ad-4165-b706-e3879860190c",
   "metadata": {},
   "source": [
    "# List all unique cities where customers are located."
   ]
  },
  {
   "cell_type": "code",
   "execution_count": 4,
   "id": "21bb9e53-8e21-4766-b36b-a091e278e393",
   "metadata": {},
   "outputs": [
    {
     "data": {
      "text/html": [
       "<div>\n",
       "<style scoped>\n",
       "    .dataframe tbody tr th:only-of-type {\n",
       "        vertical-align: middle;\n",
       "    }\n",
       "\n",
       "    .dataframe tbody tr th {\n",
       "        vertical-align: top;\n",
       "    }\n",
       "\n",
       "    .dataframe thead th {\n",
       "        text-align: right;\n",
       "    }\n",
       "</style>\n",
       "<table border=\"1\" class=\"dataframe\">\n",
       "  <thead>\n",
       "    <tr style=\"text-align: right;\">\n",
       "      <th></th>\n",
       "      <th>Cities</th>\n",
       "    </tr>\n",
       "  </thead>\n",
       "  <tbody>\n",
       "    <tr>\n",
       "      <th>0</th>\n",
       "      <td>franca</td>\n",
       "    </tr>\n",
       "    <tr>\n",
       "      <th>1</th>\n",
       "      <td>sao bernardo do campo</td>\n",
       "    </tr>\n",
       "    <tr>\n",
       "      <th>2</th>\n",
       "      <td>sao paulo</td>\n",
       "    </tr>\n",
       "    <tr>\n",
       "      <th>3</th>\n",
       "      <td>mogi das cruzes</td>\n",
       "    </tr>\n",
       "    <tr>\n",
       "      <th>4</th>\n",
       "      <td>campinas</td>\n",
       "    </tr>\n",
       "    <tr>\n",
       "      <th>...</th>\n",
       "      <td>...</td>\n",
       "    </tr>\n",
       "    <tr>\n",
       "      <th>4114</th>\n",
       "      <td>siriji</td>\n",
       "    </tr>\n",
       "    <tr>\n",
       "      <th>4115</th>\n",
       "      <td>natividade da serra</td>\n",
       "    </tr>\n",
       "    <tr>\n",
       "      <th>4116</th>\n",
       "      <td>monte bonito</td>\n",
       "    </tr>\n",
       "    <tr>\n",
       "      <th>4117</th>\n",
       "      <td>sao rafael</td>\n",
       "    </tr>\n",
       "    <tr>\n",
       "      <th>4118</th>\n",
       "      <td>eugenio de castro</td>\n",
       "    </tr>\n",
       "  </tbody>\n",
       "</table>\n",
       "<p>4119 rows × 1 columns</p>\n",
       "</div>"
      ],
      "text/plain": [
       "                     Cities\n",
       "0                    franca\n",
       "1     sao bernardo do campo\n",
       "2                 sao paulo\n",
       "3           mogi das cruzes\n",
       "4                  campinas\n",
       "...                     ...\n",
       "4114                 siriji\n",
       "4115    natividade da serra\n",
       "4116           monte bonito\n",
       "4117             sao rafael\n",
       "4118      eugenio de castro\n",
       "\n",
       "[4119 rows x 1 columns]"
      ]
     },
     "execution_count": 4,
     "metadata": {},
     "output_type": "execute_result"
    }
   ],
   "source": [
    "query=\"\"\" select distinct customer_city from customers \"\"\"\n",
    "cur.execute(query)\n",
    "data=cur.fetchall()\n",
    "df=pd.DataFrame(data,columns=['Cities'])\n",
    "df"
   ]
  },
  {
   "cell_type": "markdown",
   "id": "912ba97b-9b5d-4342-a5f1-cbbf8e7a7f19",
   "metadata": {},
   "source": [
    "# Count the number of orders placed in 2017."
   ]
  },
  {
   "cell_type": "code",
   "execution_count": 5,
   "id": "05856c4e-fe77-465f-b941-7df4c7c2a02d",
   "metadata": {},
   "outputs": [
    {
     "data": {
      "text/plain": [
       "45101"
      ]
     },
     "execution_count": 5,
     "metadata": {},
     "output_type": "execute_result"
    }
   ],
   "source": [
    "query=\"\"\" SELECT count(*) FROM orders where year(order_purchase_timestamp)=2017 \"\"\"\n",
    "cur.execute(query)\n",
    "data=cur.fetchall()\n",
    "data[0][0]"
   ]
  },
  {
   "cell_type": "markdown",
   "id": "e0f0a6ef-b891-4d82-8a84-aca58cdd4016",
   "metadata": {},
   "source": [
    "# Find the total sales per category."
   ]
  },
  {
   "cell_type": "code",
   "execution_count": 6,
   "id": "fd6d8049-8423-45d7-9b12-39d058da7b84",
   "metadata": {},
   "outputs": [
    {
     "data": {
      "text/plain": [
       "[('bed table bath', 1712553.671003269),\n",
       " ('HEALTH BEAUTY', 1657373.1193935554),\n",
       " ('computer accessories', 1585330.4462582897),\n",
       " ('Furniture Decoration', 1430176.3917766158),\n",
       " ('Watches present', 1429216.6785924584),\n",
       " ('sport leisure', 1392127.5591495223),\n",
       " ('housewares', 1094758.1302838866),\n",
       " ('automotive', 852294.3311252594),\n",
       " ('Garden tools', 838280.7507782131),\n",
       " ('Cool Stuff', 779698.0000486821),\n",
       " ('Furniture office', 646826.4871485233),\n",
       " ('toys', 619037.6894793902),\n",
       " ('babies', 539845.659735024),\n",
       " ('perfumery', 506738.6598940939),\n",
       " ('telephony', 486882.05071262456),\n",
       " ('stationary store', 317440.06965875626),\n",
       " ('pet Shop', 311268.9703014195),\n",
       " ('PCs', 279121.5493659973),\n",
       " ('electronics', 259857.09967413358),\n",
       " (None, 252801.71008366346),\n",
       " ('Construction Tools Construction', 241475.6302587986),\n",
       " ('musical instruments', 233074.12068796158),\n",
       " ('electrostile', 225584.38002350926),\n",
       " ('Fashion Bags and Accessories', 218158.28002214432),\n",
       " ('fixed telephony', 207010.25965237617),\n",
       " ('Games consoles', 195480.37912535667),\n",
       " ('Bags Accessories', 187151.29038503766),\n",
       " ('Casa Construcao', 136645.29030653834),\n",
       " ('Room Furniture', 136138.77001285553),\n",
       " ('ELECTRICES 2', 124563.46098518372),\n",
       " ('Agro Industria e Comercio', 118730.61054205894),\n",
       " ('home appliances', 95532.26982736588),\n",
       " ('climatization', 91170.65948677063),\n",
       " ('House comfort', 84329.06001865864),\n",
       " ('Furniture Kitchen Service Area Dinner and Garden', 74660.97982311249),\n",
       " ('Construction Tools Illumination', 72712.47991323471),\n",
       " ('drinks', 71429.65092563629),\n",
       " ('SIGNALIZATION AND SAFETY', 68488.05034542084),\n",
       " ('CONSTRUCTION SECURITY TOOLS', 65691.02970695496),\n",
       " ('General Interest Books', 64694.759615421295),\n",
       " ('audio', 60324.62010639906),\n",
       " ('Industry Commerce and Business', 56745.76010608673),\n",
       " ('HOUSE PASTALS OVEN AND CAFE', 51229.3202457428),\n",
       " ('foods', 46428.670213222504),\n",
       " ('Market Place', 45335.92025887966),\n",
       " ('Construction Tools Garden', 42394.41011977196),\n",
       " ('Fashion Calcados', 32422.73997592926),\n",
       " ('Furniture', 31598.939918518066),\n",
       " ('Art', 30992.930108070374),\n",
       " ('Drink foods', 27289.729914188385),\n",
       " ('technical books', 24915.43991470337),\n",
       " ('Construction Tools Tools', 21069.070079803467),\n",
       " ('Christmas articles', 18994.76999425888),\n",
       " (\"Fashion Men's Clothing\", 17290.980085849762),\n",
       " ('Fashion Underwear and Beach Fashion', 12714.539930343628),\n",
       " ('IMAGE IMPORT TABLETS', 10042.930004119873),\n",
       " ('cine photo', 9530.319977998734),\n",
       " ('Blu Ray DVDs', 7935.279939889908),\n",
       " ('song', 6901.429995298386),\n",
       " ('Imported books', 6701.890018463135),\n",
       " ('CITTE AND UPHACK FURNITURE', 5998.540077209473),\n",
       " ('party articles', 5966.310055732727),\n",
       " (\"Fashion Women's Clothing\", 5109.619964599609),\n",
       " ('Kitchen portable and food coach', 4335.650089263916),\n",
       " ('Hygiene diapers', 4221.249980926514),\n",
       " ('Fashion Sport', 3645.9199752807617),\n",
       " ('La Cuisine', 2913.5300216674805),\n",
       " ('Arts and Crafts', 2326.1699829101562),\n",
       " ('flowers', 2213.009984970093),\n",
       " ('PC Gamer', 2174.430000305176),\n",
       " ('House Comfort 2', 1710.540005683899),\n",
       " ('cds music dvds', 1199.4300155639648),\n",
       " (\"Fashion Children's Clothing\", 785.6700019836426),\n",
       " ('insurance and services', 324.50999450683594)]"
      ]
     },
     "execution_count": 6,
     "metadata": {},
     "output_type": "execute_result"
    }
   ],
   "source": [
    "query=\"\"\" select ecommerce.products.product_category,sum(ecommerce.payments.payment_value) sales from ecommerce.order_items join \n",
    "ecommerce.products on ecommerce.products.product_id=ecommerce.order_items.product_id\n",
    "join ecommerce.payments on ecommerce.payments.order_id=ecommerce.order_items.order_id group by ecommerce.products.product_category \n",
    "order by sales desc;   \"\"\"\n",
    "cur.execute(query)\n",
    "data=cur.fetchall()\n",
    "data"
   ]
  },
  {
   "cell_type": "markdown",
   "id": "24d10d61-06b2-4429-b2e6-6ccc4613c905",
   "metadata": {},
   "source": [
    "# Calculate the percentage of orders that were paid in installments."
   ]
  },
  {
   "cell_type": "code",
   "execution_count": 7,
   "id": "d13c67b3-2ff6-4cee-b179-a360931277ec",
   "metadata": {},
   "outputs": [
    {
     "data": {
      "text/plain": [
       "Decimal('99.9981')"
      ]
     },
     "execution_count": 7,
     "metadata": {},
     "output_type": "execute_result"
    }
   ],
   "source": [
    "query=\"\"\" SELECT (\n",
    "\tselect count(*) from ecommerce.payments where payment_installments>=1\n",
    ")/(select count(*) from ecommerce.payments) *100 FROM ecommerce.payments limit 1; \"\"\"\n",
    "cur.execute(query)\n",
    "data=cur.fetchall()\n",
    "data[0][0]"
   ]
  },
  {
   "cell_type": "markdown",
   "id": "deee5cb0-0c58-41af-b42b-10744ad29e7d",
   "metadata": {},
   "source": [
    "# Count the number of customers from each state. "
   ]
  },
  {
   "cell_type": "code",
   "execution_count": 8,
   "id": "b3fe694a-4afa-49f7-b77d-cad1e321deda",
   "metadata": {},
   "outputs": [
    {
     "data": {
      "image/png": "[encoded data removed]",
      "text/plain": [
       "<Figure size 640x480 with 1 Axes>"
      ]
     },
     "metadata": {},
     "output_type": "display_data"
    }
   ],
   "source": [
    "query=\"\"\" SELECT customer_state,count(customer_id) FROM ecommerce.customers group by customer_state; \"\"\"\n",
    "cur.execute(query)\n",
    "data=cur.fetchall()\n",
    "df=pd.DataFrame(data,columns=['state','customer_count'])\n",
    "df=df.sort_values(by='customer_count',ascending=False)\n",
    "plt.xticks(rotation=90)\n",
    "plt.bar(df['state'],df['customer_count'])\n",
    "plt.show()"
   ]
  },
  {
   "cell_type": "markdown",
   "id": "13ab089e-110d-4467-9ecf-b1203e331cb3",
   "metadata": {},
   "source": [
    "# Calculate the number of orders per month in 2018."
   ]
  },
  {
   "cell_type": "code",
   "execution_count": 9,
   "id": "8b776df3-d709-418c-9dc0-7f1330f85385",
   "metadata": {},
   "outputs": [
    {
     "data": {
      "image/png": "[encoded data removed]",
      "text/plain": [
       "<Figure size 640x480 with 1 Axes>"
      ]
     },
     "metadata": {},
     "output_type": "display_data"
    }
   ],
   "source": [
    "query=\"\"\" SELECT count(*) no_of_orders,monthname(order_purchase_timestamp) Month FROM ecommerce.orders \n",
    "where year(order_purchase_timestamp)=2018\n",
    "group by monthname(order_purchase_timestamp) ; \"\"\"\n",
    "cur.execute(query)\n",
    "data=cur.fetchall()\n",
    "df=pd.DataFrame(data,columns=['months','order_count'])\n",
    "o=['January','February','March','April','May','June','July','August','September','October']\n",
    "ax=sns.barplot(y=df['months'],x=df['order_count'],order=o)\n",
    "ax.bar_label(ax.containers[0])\n",
    "plt.xticks(rotation=45)\n",
    "plt.show()"
   ]
  },
  {
   "cell_type": "markdown",
   "id": "1dd54fe4-510c-49c8-80b2-f2f5256ec18a",
   "metadata": {},
   "source": [
    "# Find the average number of products per order, grouped by customer city."
   ]
  },
  {
   "cell_type": "code",
   "execution_count": 10,
   "id": "afe84db8-c4ad-4314-9fc5-28e8658bed32",
   "metadata": {},
   "outputs": [
    {
     "data": {
      "text/html": [
       "<div>\n",
       "<style scoped>\n",
       "    .dataframe tbody tr th:only-of-type {\n",
       "        vertical-align: middle;\n",
       "    }\n",
       "\n",
       "    .dataframe tbody tr th {\n",
       "        vertical-align: top;\n",
       "    }\n",
       "\n",
       "    .dataframe thead th {\n",
       "        text-align: right;\n",
       "    }\n",
       "</style>\n",
       "<table border=\"1\" class=\"dataframe\">\n",
       "  <thead>\n",
       "    <tr style=\"text-align: right;\">\n",
       "      <th></th>\n",
       "      <th>City</th>\n",
       "      <th>Average of orders</th>\n",
       "    </tr>\n",
       "  </thead>\n",
       "  <tbody>\n",
       "    <tr>\n",
       "      <th>0</th>\n",
       "      <td>padre carvalho</td>\n",
       "      <td>7.0000</td>\n",
       "    </tr>\n",
       "    <tr>\n",
       "      <th>1</th>\n",
       "      <td>celso ramos</td>\n",
       "      <td>6.5000</td>\n",
       "    </tr>\n",
       "    <tr>\n",
       "      <th>2</th>\n",
       "      <td>datas</td>\n",
       "      <td>6.0000</td>\n",
       "    </tr>\n",
       "    <tr>\n",
       "      <th>3</th>\n",
       "      <td>candido godoi</td>\n",
       "      <td>6.0000</td>\n",
       "    </tr>\n",
       "    <tr>\n",
       "      <th>4</th>\n",
       "      <td>matias olimpio</td>\n",
       "      <td>5.0000</td>\n",
       "    </tr>\n",
       "    <tr>\n",
       "      <th>...</th>\n",
       "      <td>...</td>\n",
       "      <td>...</td>\n",
       "    </tr>\n",
       "    <tr>\n",
       "      <th>4105</th>\n",
       "      <td>garruchos</td>\n",
       "      <td>1.0000</td>\n",
       "    </tr>\n",
       "    <tr>\n",
       "      <th>4106</th>\n",
       "      <td>humberto de campos</td>\n",
       "      <td>1.0000</td>\n",
       "    </tr>\n",
       "    <tr>\n",
       "      <th>4107</th>\n",
       "      <td>bela vista do maranhao</td>\n",
       "      <td>1.0000</td>\n",
       "    </tr>\n",
       "    <tr>\n",
       "      <th>4108</th>\n",
       "      <td>cantanhede</td>\n",
       "      <td>1.0000</td>\n",
       "    </tr>\n",
       "    <tr>\n",
       "      <th>4109</th>\n",
       "      <td>tabuleiro do norte</td>\n",
       "      <td>1.0000</td>\n",
       "    </tr>\n",
       "  </tbody>\n",
       "</table>\n",
       "<p>4110 rows × 2 columns</p>\n",
       "</div>"
      ],
      "text/plain": [
       "                        City Average of orders\n",
       "0             padre carvalho            7.0000\n",
       "1                celso ramos            6.5000\n",
       "2                      datas            6.0000\n",
       "3              candido godoi            6.0000\n",
       "4             matias olimpio            5.0000\n",
       "...                      ...               ...\n",
       "4105               garruchos            1.0000\n",
       "4106      humberto de campos            1.0000\n",
       "4107  bela vista do maranhao            1.0000\n",
       "4108              cantanhede            1.0000\n",
       "4109      tabuleiro do norte            1.0000\n",
       "\n",
       "[4110 rows x 2 columns]"
      ]
     },
     "execution_count": 10,
     "metadata": {},
     "output_type": "execute_result"
    }
   ],
   "source": [
    "query=\"\"\" with temp as (SELECT count(ecommerce.order_items.order_id) as particular_order,\n",
    "ecommerce.customers.customer_city,ecommerce.order_items.order_id FROM ecommerce.order_items \n",
    "join ecommerce.orders \n",
    "on ecommerce.order_items.order_id=ecommerce.orders.order_id\n",
    "join ecommerce.customers on ecommerce.customers.customer_id=ecommerce.orders.customer_id \n",
    "where ecommerce.order_items.order_id=ecommerce.orders.order_id \n",
    "group by ecommerce.customers.customer_city,ecommerce.order_items.order_id)\n",
    "select temp.customer_city,avg(particular_order) as avg_of_products from temp group by temp.customer_city order by avg_of_products desc\n",
    "; \"\"\"\n",
    "cur.execute(query)\n",
    "data=cur.fetchall()\n",
    "df=pd.DataFrame(data,columns=['City','Average of orders'])\n",
    "df"
   ]
  },
  {
   "cell_type": "markdown",
   "id": "8f0418dd-2dd5-4137-968a-5501b47fabf3",
   "metadata": {},
   "source": [
    "# Calculate the percentage of total revenue contributed by each product category."
   ]
  },
  {
   "cell_type": "code",
   "execution_count": 11,
   "id": "b32ed629-2d4d-4773-9884-f500eb22d675",
   "metadata": {},
   "outputs": [
    {
     "data": {
      "text/html": [
       "<div>\n",
       "<style scoped>\n",
       "    .dataframe tbody tr th:only-of-type {\n",
       "        vertical-align: middle;\n",
       "    }\n",
       "\n",
       "    .dataframe tbody tr th {\n",
       "        vertical-align: top;\n",
       "    }\n",
       "\n",
       "    .dataframe thead th {\n",
       "        text-align: right;\n",
       "    }\n",
       "</style>\n",
       "<table border=\"1\" class=\"dataframe\">\n",
       "  <thead>\n",
       "    <tr style=\"text-align: right;\">\n",
       "      <th></th>\n",
       "      <th>Product Category</th>\n",
       "      <th>Percentage Revenue</th>\n",
       "    </tr>\n",
       "  </thead>\n",
       "  <tbody>\n",
       "    <tr>\n",
       "      <th>0</th>\n",
       "      <td>bed table bath</td>\n",
       "      <td>10.697529</td>\n",
       "    </tr>\n",
       "    <tr>\n",
       "      <th>1</th>\n",
       "      <td>HEALTH BEAUTY</td>\n",
       "      <td>10.352841</td>\n",
       "    </tr>\n",
       "    <tr>\n",
       "      <th>2</th>\n",
       "      <td>computer accessories</td>\n",
       "      <td>9.902824</td>\n",
       "    </tr>\n",
       "    <tr>\n",
       "      <th>3</th>\n",
       "      <td>Furniture Decoration</td>\n",
       "      <td>8.933649</td>\n",
       "    </tr>\n",
       "    <tr>\n",
       "      <th>4</th>\n",
       "      <td>Watches present</td>\n",
       "      <td>8.927654</td>\n",
       "    </tr>\n",
       "    <tr>\n",
       "      <th>...</th>\n",
       "      <td>...</td>\n",
       "      <td>...</td>\n",
       "    </tr>\n",
       "    <tr>\n",
       "      <th>69</th>\n",
       "      <td>PC Gamer</td>\n",
       "      <td>0.013583</td>\n",
       "    </tr>\n",
       "    <tr>\n",
       "      <th>70</th>\n",
       "      <td>House Comfort 2</td>\n",
       "      <td>0.010685</td>\n",
       "    </tr>\n",
       "    <tr>\n",
       "      <th>71</th>\n",
       "      <td>cds music dvds</td>\n",
       "      <td>0.007492</td>\n",
       "    </tr>\n",
       "    <tr>\n",
       "      <th>72</th>\n",
       "      <td>Fashion Children's Clothing</td>\n",
       "      <td>0.004908</td>\n",
       "    </tr>\n",
       "    <tr>\n",
       "      <th>73</th>\n",
       "      <td>insurance and services</td>\n",
       "      <td>0.002027</td>\n",
       "    </tr>\n",
       "  </tbody>\n",
       "</table>\n",
       "<p>74 rows × 2 columns</p>\n",
       "</div>"
      ],
      "text/plain": [
       "               Product Category  Percentage Revenue\n",
       "0                bed table bath           10.697529\n",
       "1                 HEALTH BEAUTY           10.352841\n",
       "2          computer accessories            9.902824\n",
       "3          Furniture Decoration            8.933649\n",
       "4               Watches present            8.927654\n",
       "..                          ...                 ...\n",
       "69                     PC Gamer            0.013583\n",
       "70              House Comfort 2            0.010685\n",
       "71               cds music dvds            0.007492\n",
       "72  Fashion Children's Clothing            0.004908\n",
       "73       insurance and services            0.002027\n",
       "\n",
       "[74 rows x 2 columns]"
      ]
     },
     "execution_count": 11,
     "metadata": {},
     "output_type": "execute_result"
    }
   ],
   "source": [
    "query=\"\"\" select ecommerce.products.product_category,\n",
    "sum(ecommerce.payments.payment_value)/(select sum(ecommerce.payments.payment_value) from ecommerce.payments)*100 sales_percentage \n",
    "from ecommerce.order_items join \n",
    "ecommerce.products on ecommerce.products.product_id=ecommerce.order_items.product_id\n",
    "join ecommerce.payments on ecommerce.payments.order_id=ecommerce.order_items.order_id group by ecommerce.products.product_category \n",
    "order by sales_percentage desc;\"\"\"\n",
    "cur.execute(query)\n",
    "data=cur.fetchall()\n",
    "df=pd.DataFrame(data,columns=['Product Category','Percentage Revenue'])\n",
    "df"
   ]
  },
  {
   "cell_type": "markdown",
   "id": "c8cd2561-4c80-4daa-b117-e54b0f581585",
   "metadata": {},
   "source": [
    "# Identify the correlation between product price and the number of times a product has been purchased."
   ]
  },
  {
   "cell_type": "code",
   "execution_count": 16,
   "id": "4b94c63c-c203-4f12-9128-7715d820b648",
   "metadata": {},
   "outputs": [
    {
     "data": {
      "text/plain": [
       "array([[ 1.        , -0.10631552],\n",
       "       [-0.10631552,  1.        ]])"
      ]
     },
     "execution_count": 16,
     "metadata": {},
     "output_type": "execute_result"
    }
   ],
   "source": [
    "query=\"\"\" SELECT ecommerce.products.product_category,avg(price),count(order_id) total_orders FROM ecommerce.order_items\n",
    "join ecommerce.products on products.product_id=order_items.product_id\n",
    "group by ecommerce.products.product_category order by total_orders desc ;\"\"\"\n",
    "cur.execute(query)\n",
    "data=cur.fetchall()\n",
    "df=pd.DataFrame(data,columns=['Product Category','Product Price','Number of times product bought'])\n",
    "arr1=df['Number of times product bought']\n",
    "arr2=df['Product Price']\n",
    "np.corrcoef(arr1,arr2)"
   ]
  },
  {
   "cell_type": "markdown",
   "id": "26e2412f-05a9-4bc1-8ce4-0bf93c5bca03",
   "metadata": {},
   "source": [
    "# Calculate the total revenue generated by each seller, and rank them by revenue."
   ]
  },
  {
   "cell_type": "code",
   "execution_count": 23,
   "id": "144ec12f-ac19-4884-b623-898a3431475b",
   "metadata": {},
   "outputs": [
    {
     "data": {
      "text/html": [
       "<div>\n",
       "<style scoped>\n",
       "    .dataframe tbody tr th:only-of-type {\n",
       "        vertical-align: middle;\n",
       "    }\n",
       "\n",
       "    .dataframe tbody tr th {\n",
       "        vertical-align: top;\n",
       "    }\n",
       "\n",
       "    .dataframe thead th {\n",
       "        text-align: right;\n",
       "    }\n",
       "</style>\n",
       "<table border=\"1\" class=\"dataframe\">\n",
       "  <thead>\n",
       "    <tr style=\"text-align: right;\">\n",
       "      <th></th>\n",
       "      <th>seller_id</th>\n",
       "      <th>revenue</th>\n",
       "      <th>rank</th>\n",
       "    </tr>\n",
       "  </thead>\n",
       "  <tbody>\n",
       "    <tr>\n",
       "      <th>0</th>\n",
       "      <td>7c67e1448b00f6e969d365cea6b010ab</td>\n",
       "      <td>507166.907302</td>\n",
       "      <td>1</td>\n",
       "    </tr>\n",
       "    <tr>\n",
       "      <th>1</th>\n",
       "      <td>1025f0e2d44d7041d6cf58b6550e0bfa</td>\n",
       "      <td>308222.039840</td>\n",
       "      <td>2</td>\n",
       "    </tr>\n",
       "    <tr>\n",
       "      <th>2</th>\n",
       "      <td>4a3ca9315b744ce9f8e9374361493884</td>\n",
       "      <td>301245.269765</td>\n",
       "      <td>3</td>\n",
       "    </tr>\n",
       "    <tr>\n",
       "      <th>3</th>\n",
       "      <td>1f50f920176fa81dab994f9023523100</td>\n",
       "      <td>290253.420128</td>\n",
       "      <td>4</td>\n",
       "    </tr>\n",
       "    <tr>\n",
       "      <th>4</th>\n",
       "      <td>53243585a1d6dc2643021fd1853d8905</td>\n",
       "      <td>284903.080498</td>\n",
       "      <td>5</td>\n",
       "    </tr>\n",
       "    <tr>\n",
       "      <th>...</th>\n",
       "      <td>...</td>\n",
       "      <td>...</td>\n",
       "      <td>...</td>\n",
       "    </tr>\n",
       "    <tr>\n",
       "      <th>3090</th>\n",
       "      <td>ad14615bdd492b01b0d97922e87cb87f</td>\n",
       "      <td>19.209999</td>\n",
       "      <td>3082</td>\n",
       "    </tr>\n",
       "    <tr>\n",
       "      <th>3091</th>\n",
       "      <td>702835e4b785b67a084280efca355756</td>\n",
       "      <td>18.559999</td>\n",
       "      <td>3083</td>\n",
       "    </tr>\n",
       "    <tr>\n",
       "      <th>3092</th>\n",
       "      <td>4965a7002cca77301c82d3f91b82e1a9</td>\n",
       "      <td>16.360001</td>\n",
       "      <td>3084</td>\n",
       "    </tr>\n",
       "    <tr>\n",
       "      <th>3093</th>\n",
       "      <td>77128dec4bec4878c37ab7d6169d6f26</td>\n",
       "      <td>15.220000</td>\n",
       "      <td>3085</td>\n",
       "    </tr>\n",
       "    <tr>\n",
       "      <th>3094</th>\n",
       "      <td>cf6f6bc4df3999b9c6440f124fb2f687</td>\n",
       "      <td>12.220000</td>\n",
       "      <td>3086</td>\n",
       "    </tr>\n",
       "  </tbody>\n",
       "</table>\n",
       "<p>3095 rows × 3 columns</p>\n",
       "</div>"
      ],
      "text/plain": [
       "                             seller_id        revenue  rank\n",
       "0     7c67e1448b00f6e969d365cea6b010ab  507166.907302     1\n",
       "1     1025f0e2d44d7041d6cf58b6550e0bfa  308222.039840     2\n",
       "2     4a3ca9315b744ce9f8e9374361493884  301245.269765     3\n",
       "3     1f50f920176fa81dab994f9023523100  290253.420128     4\n",
       "4     53243585a1d6dc2643021fd1853d8905  284903.080498     5\n",
       "...                                ...            ...   ...\n",
       "3090  ad14615bdd492b01b0d97922e87cb87f      19.209999  3082\n",
       "3091  702835e4b785b67a084280efca355756      18.559999  3083\n",
       "3092  4965a7002cca77301c82d3f91b82e1a9      16.360001  3084\n",
       "3093  77128dec4bec4878c37ab7d6169d6f26      15.220000  3085\n",
       "3094  cf6f6bc4df3999b9c6440f124fb2f687      12.220000  3086\n",
       "\n",
       "[3095 rows x 3 columns]"
      ]
     },
     "execution_count": 23,
     "metadata": {},
     "output_type": "execute_result"
    }
   ],
   "source": [
    "query=\"\"\"select *,dense_rank() over(order by revenue desc) as rn from \n",
    "(SELECT seller_id,sum(ecommerce.payments.payment_value) revenue FROM ecommerce.order_items \n",
    "join ecommerce.payments on ecommerce.payments.order_id=ecommerce.order_items.order_id \n",
    "group by seller_id order by revenue desc) as a\"\"\"\n",
    "cur.execute(query)\n",
    "data=cur.fetchall()\n",
    "df=pd.DataFrame(data,columns=['seller_id','revenue','rank'])\n",
    "df"
   ]
  },
  {
   "cell_type": "markdown",
   "id": "16c9bd8b-5bf9-40c5-ba9b-2b63f6e40975",
   "metadata": {},
   "source": [
    "# Calculate the moving average of order values for each customer over their order history."
   ]
  },
  {
   "cell_type": "code",
   "execution_count": null,
   "id": "9976e969-c4b0-448e-92c5-8a80a798ba4e",
   "metadata": {},
   "outputs": [],
   "source": []
  },
  {
   "cell_type": "markdown",
   "id": "2ab84f8f-0a50-48d1-ba01-9723a070f3b2",
   "metadata": {},
   "source": [
    "# Calculate the cumulative sales per month for each year."
   ]
  },
  {
   "cell_type": "code",
   "execution_count": null,
   "id": "fa89c48d-142e-4e0f-82bc-05294c769af3",
   "metadata": {},
   "outputs": [],
   "source": []
  },
  {
   "cell_type": "markdown",
   "id": "db413c72-0a96-48e6-ba0e-6742ac1b6c1f",
   "metadata": {},
   "source": [
    "# Calculate the year-over-year growth rate of total sales."
   ]
  },
  {
   "cell_type": "code",
   "execution_count": null,
   "id": "0218efd5-09b9-4023-b44e-54756e082960",
   "metadata": {},
   "outputs": [],
   "source": []
  },
  {
   "cell_type": "markdown",
   "id": "f4a398f6-dc1c-49f9-a7d6-a46607f35dde",
   "metadata": {},
   "source": [
    "# Calculate the retention rate of customers, defined as the percentage of customers who make another purchase within 6 months of their first purchase."
   ]
  },
  {
   "cell_type": "code",
   "execution_count": null,
   "id": "d8020b9a-7374-4c1e-a9df-5b1d85c8dd8c",
   "metadata": {},
   "outputs": [],
   "source": []
  },
  {
   "cell_type": "markdown",
   "id": "f0ca3bd5-bf01-4c9e-a422-73642258d177",
   "metadata": {},
   "source": [
    "# Identify the top 3 customers who spent the most money in each year."
   ]
  },
  {
   "cell_type": "code",
   "execution_count": null,
   "id": "56ea18e1-488c-441c-a6cb-1f9f1de89a93",
   "metadata": {},
   "outputs": [],
   "source": []
  }
 ],
 "metadata": {
  "kernelspec": {
   "display_name": "Python 3 (ipykernel)",
   "language": "python",
   "name": "python3"
  },
  "language_info": {
   "codemirror_mode": {
    "name": "ipython",
    "version": 3
   },
   "file_extension": ".py",
   "mimetype": "text/x-python",
   "name": "python",
   "nbconvert_exporter": "python",
   "pygments_lexer": "ipython3",
   "version": "3.11.3"
  }
 },
 "nbformat": 4,
 "nbformat_minor": 5
}
